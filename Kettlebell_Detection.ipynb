{
  "nbformat": 4,
  "nbformat_minor": 0,
  "metadata": {
    "colab": {
      "name": "Kettlebell Detection.ipynb",
      "version": "0.3.2",
      "provenance": [],
      "collapsed_sections": []
    },
    "kernelspec": {
      "name": "python3",
      "display_name": "Python 3"
    },
    "accelerator": "TPU"
  },
  "cells": [
    {
      "metadata": {
        "id": "T2F6TX3rlXP6",
        "colab_type": "code",
        "outputId": "a4135ea2-0201-4ebe-9371-bd9f4d1f9670",
        "colab": {
          "base_uri": "https://localhost:8080/",
          "height": 122
        }
      },
      "cell_type": "code",
      "source": [
        "#@title\n",
        "from google.colab import drive\n",
        "drive.mount('/content/drive')"
      ],
      "execution_count": 0,
      "outputs": [
        {
          "output_type": "stream",
          "text": [
            "Go to this URL in a browser: https://accounts.google.com/o/oauth2/auth?client_id=947318989803-6bn6qk8qdgf4n4g3pfee6491hc0brc4i.apps.googleusercontent.com&redirect_uri=urn%3Aietf%3Awg%3Aoauth%3A2.0%3Aoob&scope=email%20https%3A%2F%2Fwww.googleapis.com%2Fauth%2Fdocs.test%20https%3A%2F%2Fwww.googleapis.com%2Fauth%2Fdrive%20https%3A%2F%2Fwww.googleapis.com%2Fauth%2Fdrive.photos.readonly%20https%3A%2F%2Fwww.googleapis.com%2Fauth%2Fpeopleapi.readonly&response_type=code\n",
            "\n",
            "Enter your authorization code:\n",
            "··········\n",
            "Mounted at /content/drive\n"
          ],
          "name": "stdout"
        }
      ]
    },
    {
      "metadata": {
        "id": "pxkMYR2XljUp",
        "colab_type": "code",
        "outputId": "25c70684-ae4f-4770-b487-32c1b50c6298",
        "colab": {
          "base_uri": "https://localhost:8080/",
          "height": 34
        }
      },
      "cell_type": "code",
      "source": [
        "ls"
      ],
      "execution_count": 0,
      "outputs": [
        {
          "output_type": "stream",
          "text": [
            "\u001b[0m\u001b[01;34mdrive\u001b[0m/  \u001b[01;34msample_data\u001b[0m/\n"
          ],
          "name": "stdout"
        }
      ]
    },
    {
      "metadata": {
        "id": "i23thASvlmYf",
        "colab_type": "code",
        "outputId": "111ba35a-8bc1-4ca9-dc26-99777ecdf2b7",
        "colab": {
          "base_uri": "https://localhost:8080/",
          "height": 34
        }
      },
      "cell_type": "code",
      "source": [
        "cd drive/'My Drive'/darkflow"
      ],
      "execution_count": 0,
      "outputs": [
        {
          "output_type": "stream",
          "text": [
            "/content/drive/My Drive/darkflow\n"
          ],
          "name": "stdout"
        }
      ]
    },
    {
      "metadata": {
        "id": "kqNzBgz5lp23",
        "colab_type": "code",
        "colab": {}
      },
      "cell_type": "code",
      "source": [
        "!python flow --model cfg/tiny-yolo-voc-1c.cfg --load 2250 --train --annotation Data/Annotations --dataset Data/Images --batch 16 --gpu 1 --epoch 2500"
      ],
      "execution_count": 0,
      "outputs": []
    },
    {
      "metadata": {
        "id": "iuE2XVtOpmim",
        "colab_type": "code",
        "outputId": "c8b2ca2e-8b61-40a3-a0ef-ab3439ec07cf",
        "colab": {
          "base_uri": "https://localhost:8080/",
          "height": 717
        }
      },
      "cell_type": "code",
      "source": [
        "!python flow --model cfg/tiny-yolo-voc-1c.cfg --load 2250 --savepb --gpu 1.0"
      ],
      "execution_count": 0,
      "outputs": [
        {
          "output_type": "stream",
          "text": [
            "\n",
            "Parsing cfg/tiny-yolo-voc-1c.cfg\n",
            "Loading None ...\n",
            "Finished in 8.797645568847656e-05s\n",
            "\n",
            "Building net ...\n",
            "Source | Train? | Layer description                | Output size\n",
            "-------+--------+----------------------------------+---------------\n",
            "WARNING:tensorflow:From /usr/local/lib/python3.6/dist-packages/tensorflow/python/framework/op_def_library.py:263: colocate_with (from tensorflow.python.framework.ops) is deprecated and will be removed in a future version.\n",
            "Instructions for updating:\n",
            "Colocations handled automatically by placer.\n",
            "       |        | input                            | (?, 608, 608, 3)\n",
            " Init  |  Yep!  | conv 3x3p1_1  +bnorm  leaky      | (?, 608, 608, 16)\n",
            " Load  |  Yep!  | maxp 2x2p0_2                     | (?, 304, 304, 16)\n",
            " Init  |  Yep!  | conv 3x3p1_1  +bnorm  leaky      | (?, 304, 304, 32)\n",
            " Load  |  Yep!  | maxp 2x2p0_2                     | (?, 152, 152, 32)\n",
            " Init  |  Yep!  | conv 3x3p1_1  +bnorm  leaky      | (?, 152, 152, 64)\n",
            " Load  |  Yep!  | maxp 2x2p0_2                     | (?, 76, 76, 64)\n",
            " Init  |  Yep!  | conv 3x3p1_1  +bnorm  leaky      | (?, 76, 76, 128)\n",
            " Load  |  Yep!  | maxp 2x2p0_2                     | (?, 38, 38, 128)\n",
            " Init  |  Yep!  | conv 3x3p1_1  +bnorm  leaky      | (?, 38, 38, 256)\n",
            " Load  |  Yep!  | maxp 2x2p0_2                     | (?, 19, 19, 256)\n",
            " Init  |  Yep!  | conv 3x3p1_1  +bnorm  leaky      | (?, 19, 19, 512)\n",
            " Load  |  Yep!  | maxp 2x2p0_1                     | (?, 19, 19, 512)\n",
            " Init  |  Yep!  | conv 3x3p1_1  +bnorm  leaky      | (?, 19, 19, 1024)\n",
            " Init  |  Yep!  | conv 3x3p1_1  +bnorm  leaky      | (?, 19, 19, 1024)\n",
            " Init  |  Yep!  | conv 1x1p0_1    linear           | (?, 19, 19, 30)\n",
            "-------+--------+----------------------------------+---------------\n",
            "GPU mode with 1.0 usage\n",
            "2019-02-17 19:04:39.311424: I tensorflow/core/platform/profile_utils/cpu_utils.cc:94] CPU Frequency: 2300000000 Hz\n",
            "2019-02-17 19:04:39.311711: I tensorflow/compiler/xla/service/service.cc:150] XLA service 0x2b40100 executing computations on platform Host. Devices:\n",
            "2019-02-17 19:04:39.311747: I tensorflow/compiler/xla/service/service.cc:158]   StreamExecutor device (0): <undefined>, <undefined>\n",
            "Loading from ./ckpt/tiny-yolo-voc-1c-2250\n",
            "WARNING:tensorflow:From /usr/local/lib/python3.6/dist-packages/tensorflow/python/training/saver.py:1266: checkpoint_exists (from tensorflow.python.training.checkpoint_management) is deprecated and will be removed in a future version.\n",
            "Instructions for updating:\n",
            "Use standard file APIs to check for files with this prefix.\n",
            "Finished in 2.291567325592041s\n",
            "\n",
            "Rebuild a constant version ...\n",
            "Done\n"
          ],
          "name": "stdout"
        }
      ]
    },
    {
      "metadata": {
        "id": "J6J1MlX4DOTY",
        "colab_type": "code",
        "outputId": "85aede14-999f-4d18-8d31-240a49ef529e",
        "colab": {
          "base_uri": "https://localhost:8080/",
          "height": 343
        }
      },
      "cell_type": "code",
      "source": [
        "!python flow --pbLoad built_graph/tiny-yolo-voc-1c.pb --metaLoad built_graph/tiny-yolo-voc-1c.meta --imgdir sample_img/ --threshold 0.3 --gpu 1.0"
      ],
      "execution_count": 0,
      "outputs": [
        {
          "output_type": "stream",
          "text": [
            "\n",
            "\n",
            "Loading from .pb and .meta\n",
            "WARNING:tensorflow:From /content/drive/My Drive/darkflow/darkflow/net/build.py:81: FastGFile.__init__ (from tensorflow.python.platform.gfile) is deprecated and will be removed in a future version.\n",
            "Instructions for updating:\n",
            "Use tf.gfile.GFile.\n",
            "GPU mode with 1.0 usage\n",
            "2019-02-17 19:10:52.087934: I tensorflow/core/platform/profile_utils/cpu_utils.cc:94] CPU Frequency: 2300000000 Hz\n",
            "2019-02-17 19:10:52.088266: I tensorflow/compiler/xla/service/service.cc:150] XLA service 0x32191e0 executing computations on platform Host. Devices:\n",
            "2019-02-17 19:10:52.088314: I tensorflow/compiler/xla/service/service.cc:158]   StreamExecutor device (0): <undefined>, <undefined>\n",
            "Forwarding 16 inputs ...\n",
            "Total time = 8.670534372329712s / 16 inps = 1.845330323706555 ips\n",
            "Post processing 16 inputs ...\n",
            "Total time = 0.1632239818572998s / 16 inps = 98.02481117013896 ips\n",
            "Forwarding 9 inputs ...\n",
            "Total time = 4.285006761550903s / 9 inps = 2.1003467440836814 ips\n",
            "Post processing 9 inputs ...\n",
            "Total time = 0.10170412063598633s / 9 inps = 88.49198974161818 ips\n"
          ],
          "name": "stdout"
        }
      ]
    },
    {
      "metadata": {
        "id": "7tQfUDy0DOZt",
        "colab_type": "code",
        "colab": {}
      },
      "cell_type": "code",
      "source": [
        ""
      ],
      "execution_count": 0,
      "outputs": []
    },
    {
      "metadata": {
        "id": "0AZlUvV-DOky",
        "colab_type": "code",
        "colab": {}
      },
      "cell_type": "code",
      "source": [
        ""
      ],
      "execution_count": 0,
      "outputs": []
    },
    {
      "metadata": {
        "id": "4qNZchkBDOqO",
        "colab_type": "code",
        "colab": {}
      },
      "cell_type": "code",
      "source": [
        ""
      ],
      "execution_count": 0,
      "outputs": []
    },
    {
      "metadata": {
        "id": "O-ndsi3sDOwG",
        "colab_type": "code",
        "colab": {}
      },
      "cell_type": "code",
      "source": [
        ""
      ],
      "execution_count": 0,
      "outputs": []
    },
    {
      "metadata": {
        "id": "1dDiTXaWDO1k",
        "colab_type": "code",
        "colab": {}
      },
      "cell_type": "code",
      "source": [
        ""
      ],
      "execution_count": 0,
      "outputs": []
    },
    {
      "metadata": {
        "id": "hOUIXXpyDO9H",
        "colab_type": "code",
        "colab": {}
      },
      "cell_type": "code",
      "source": [
        ""
      ],
      "execution_count": 0,
      "outputs": []
    }
  ]
}